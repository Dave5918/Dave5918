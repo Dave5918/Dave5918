{
  "nbformat": 4,
  "nbformat_minor": 0,
  "metadata": {
    "colab": {
      "provenance": [],
      "authorship_tag": "ABX9TyO7p/6xUw+PqiNLjxE3uuAw",
      "include_colab_link": true
    },
    "kernelspec": {
      "name": "python3",
      "display_name": "Python 3"
    },
    "language_info": {
      "name": "python"
    }
  },
  "cells": [
    {
      "cell_type": "markdown",
      "metadata": {
        "id": "view-in-github",
        "colab_type": "text"
      },
      "source": [
        "<a href=\"https://colab.research.google.com/github/Dave5918/Dave5918/blob/main/Copy_of_fertilizer.ipynb\" target=\"_parent\"><img src=\"https://colab.research.google.com/assets/colab-badge.svg\" alt=\"Open In Colab\"/></a>"
      ]
    },
    {
      "cell_type": "code",
      "execution_count": 19,
      "metadata": {
        "id": "tXYl9zBE9oKz"
      },
      "outputs": [],
      "source": [
        "import seaborn as sns\n",
        "import pandas as pd\n",
        "import numpy as np\n",
        "import matplotlib.pyplot as plt\n",
        "data=pd.read_csv(\"train.csv\")\n",
        "test=pd.read_csv(\"test.csv\")\n",
        "inputs=data.columns[1:9]\n",
        "target=data.columns[9]\n",
        "inputs=data[inputs]\n",
        "target=data[target]\n",
        "numerical=inputs.select_dtypes(include=np.number).columns.tolist()\n",
        "category=inputs.select_dtypes(include=\"object\").columns.tolist()\n",
        "\n",
        "# sns.heatmap(data[numerical].corr(),annot=True)\n",
        "from sklearn.model_selection import train_test_split\n",
        "x_train,x_test,y_train,y_test=train_test_split(inputs,target,test_size=0.2,random_state=42)\n",
        "from sklearn.preprocessing import MinMaxScaler\n",
        "scaler=MinMaxScaler()\n",
        "x_train[numerical]=scaler.fit_transform(x_train[numerical])\n",
        "x_test[numerical]=scaler.fit_transform(x_test[numerical])\n",
        "test[numerical]=scaler.fit_transform(test[numerical])\n",
        "\n",
        "\n",
        "from sklearn.preprocessing import OneHotEncoder\n",
        "encoder=OneHotEncoder(sparse_output=False,handle_unknown=\"ignore\")\n",
        "encoder.fit(data[category])\n",
        "encoded=list(encoder.get_feature_names_out(category))\n",
        "x_train[encoded]=encoder.transform(x_train[category])\n",
        "x_test[encoded]=encoder.transform(x_test[category])\n",
        "test[encoded]=encoder.transform(test[category])\n",
        "\n",
        "from sklearn.ensemble import GradientBoostingClassifier\n",
        "model=GradientBoostingClassifier(n_estimators=10,learning_rate=0.1,subsample=0.5,random_state=42)\n",
        "# model.fit(x_train[numerical + encoded],y_train) # Moved fitting to the next cell\n",
        "# test_pred=model.predict_proba(test[numerical + encoded]) # Moved prediction to the next cell\n",
        "from sklearn.metrics import accuracy_score\n",
        "# accuracy=accuracy_score(y_test,model.predict(x_test[numerical + encoded])) # Moved accuracy calculation to the next cell"
      ]
    },
    {
      "cell_type": "code",
      "source": [
        "from sklearn.preprocessing import LabelEncoder\n",
        "target_encoder = LabelEncoder()\n",
        "y_train_encoded = target_encoder.fit_transform(y_train) # Encode y_train\n",
        "y_test_encoded = target_encoder.transform(y_test) # Encode y_test\n",
        "model.fit(x_train[numerical + encoded], y_train_encoded) # Fit model with encoded target\n",
        "test_pred_proba = model.predict_proba(test[numerical + encoded])\n",
        "top_3_preds_indices = np.argsort(test_pred_proba, axis=1)[:, ::-1][:, :3]\n",
        "\n",
        "# Map the indices back to the original fertilizer names\n",
        "top_3_labels = np.array([target_encoder.classes_[i] for i in top_3_preds_indices.ravel()]).reshape(top_3_preds_indices.shape)\n",
        "\n",
        "submission = pd.read_csv('sample_submission.csv')\n",
        "submission = pd.DataFrame({\n",
        "    'id': submission['id'],\n",
        "    'Fertilizer Name': [' '.join(row) for row in top_3_labels] # Join strings directly\n",
        "})\n",
        "\n",
        "submission.to_csv('submission_real_names.csv', index=False)\n",
        "print(\"✅ Submission file with real fertilizer names saved successfully!\")\n",
        "print(submission.head())\n",
        "\n",
        "# Calculate accuracy with encoded y_test\n",
        "accuracy = accuracy_score(y_test_encoded, model.predict(x_test[numerical + encoded]))\n",
        "print(f\"Accuracy: {accuracy}\")"
      ],
      "metadata": {
        "id": "c44a4JzR99CU",
        "colab": {
          "base_uri": "https://localhost:8080/"
        },
        "outputId": "5989c92a-e78e-4241-e422-4087ab921c93"
      },
      "execution_count": 20,
      "outputs": [
        {
          "output_type": "stream",
          "name": "stdout",
          "text": [
            "✅ Submission file with real fertilizer names saved successfully!\n",
            "       id             Fertilizer Name\n",
            "0  750000     14-35-14 10-26-26 20-20\n",
            "1  750001  17-17-17 14-35-14 10-26-26\n",
            "2  750002     20-20 10-26-26 14-35-14\n",
            "3  750003  14-35-14 10-26-26 17-17-17\n",
            "4  750004     20-20 17-17-17 14-35-14\n",
            "Accuracy: 0.1643\n"
          ]
        }
      ]
    }
  ]
}